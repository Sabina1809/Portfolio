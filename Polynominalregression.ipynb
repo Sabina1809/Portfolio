{
  "nbformat": 4,
  "nbformat_minor": 0,
  "metadata": {
    "colab": {
      "provenance": []
    },
    "kernelspec": {
      "name": "python3",
      "display_name": "Python 3"
    },
    "language_info": {
      "name": "python"
    }
  },
  "cells": [
    {
      "cell_type": "code",
      "source": [
        "import numpy as np\n",
        "from sklearn.model_selection import train_test_split\n",
        "from sklearn.preprocessing import PolynomialFeatures\n",
        "from sklearn.linear_model import LinearRegression, Ridge, Lasso\n",
        "\n",
        "# Step 1. Data\n",
        "X = np.array([[1], [2], [3], [4], [5]])\n",
        "y = np.array([1, 4, 9, 16, 25])  # y = x^2\n",
        "\n",
        "# Step 2. Split data\n",
        "X_train = np.array([[1], [3], [4], [5]])\n",
        "y_train = np.array([1, 9, 16, 25])\n",
        "X_test = np.array([[2]])\n",
        "y_test = np.array([4])\n",
        "\n",
        "# Step 3. Polynomial feature expansion\n",
        "poly = PolynomialFeatures(degree=2)\n",
        "X_train_poly = poly.fit_transform(X_train)\n",
        "X_test_poly = poly.transform(X_test)\n",
        "\n",
        "# Step 4. Linear Regression\n",
        "model = LinearRegression()\n",
        "model.fit(X_train_poly, y_train)\n",
        "\n",
        "# Step 5. Prediction\n",
        "y_pred = model.predict(X_test_poly)\n",
        "\n",
        "print(\"Predictions:\", y_pred)\n"
      ],
      "metadata": {
        "colab": {
          "base_uri": "https://localhost:8080/"
        },
        "id": "_QI8SV7adTJz",
        "outputId": "7aab70e4-05b1-41c8-e409-423fbeb9e580"
      },
      "execution_count": 11,
      "outputs": [
        {
          "output_type": "stream",
          "name": "stdout",
          "text": [
            "Predictions: [4.]\n"
          ]
        }
      ]
    },
    {
      "cell_type": "code",
      "source": [
        "import numpy as np\n",
        "from sklearn.preprocessing import PolynomialFeatures\n",
        "from sklearn.linear_model import LinearRegression\n",
        "\n",
        "X = np.array([[1], [2], [3], [4], [5]])\n",
        "y = np.array([1, 4, 9, 16, 25])  # y = x^2\n",
        "\n",
        "poly = PolynomialFeatures(degree=2)\n",
        "X_poly = poly.fit_transform(X)\n",
        "\n",
        "model = LinearRegression()\n",
        "model.fit(X_poly, y)\n",
        "\n",
        "X_test = np.array([[2]])\n",
        "X_test_poly = poly.transform(X_test)\n",
        "\n",
        "y_pred = model.predict(X_test_poly)\n",
        "\n",
        "print(\"Predictions:\", y_pred)\n"
      ],
      "metadata": {
        "colab": {
          "base_uri": "https://localhost:8080/"
        },
        "id": "rwNZCGYIdMVu",
        "outputId": "9f9989f9-a371-4ef0-8eec-91f552c5eef6"
      },
      "execution_count": 9,
      "outputs": [
        {
          "output_type": "stream",
          "name": "stdout",
          "text": [
            "Predictions: [4.]\n"
          ]
        }
      ]
    },
    {
      "cell_type": "code",
      "source": [
        "import numpy as np\n",
        "from sklearn.model_selection import train_test_split\n",
        "from sklearn.preprocessing import PolynomialFeatures\n",
        "from sklearn.linear_model import LinearRegression\n",
        "from sklearn.linear_model import Ridge\n",
        "from sklearn.linear_model import Lasso\n",
        "\n",
        "# Step 1. Data\n",
        "X = np.array([[1], [2], [3], [4], [5]])\n",
        "y = np.array([1, 4, 9, 16, 25])  # y = x^2\n",
        "\n",
        "# Step 2. Split data\n",
        "X_train = np.array([[1], [3], [4], [5]])\n",
        "y_train = np.array([1, 9, 16, 25])\n",
        "X_test = np.array([[2]])\n",
        "y_test = np.array([4])\n",
        "\n",
        "# Step 3. Polynomial feature expansion\n",
        "poly = PolynomialFeatures(degree=2)\n",
        "X_train_poly = poly.fit_transform(X_train)\n",
        "X_test_poly = poly.transform(X_test)\n",
        "\n",
        "\n",
        "#Linear Regression\n",
        "model = LinearRegression()\n",
        "model.fit(X_train_poly, y_train)\n",
        "\n",
        "#Ridge Regression\n",
        "ridge_model = Ridge(alpha=1.0)\n",
        "ridge_model.fit(X_train_poly, y_train)\n",
        "\n",
        "y_pred = ridge_model.predict(X_test_poly)\n",
        "\n",
        "#Lasso Regression\n",
        "Lasso_model = Lasso(alpha=0.1)\n",
        "Lasso_model.fit(X_train_poly, y_train)\n",
        "\n",
        "y_pred = Lasso_model.predict(X_test_poly)\n",
        "\n",
        "# Step 5. Prediction\n",
        "y_pred = model.predict(X_test_poly)\n",
        "\n",
        "print(\"Predictions:\", y_pred)"
      ],
      "metadata": {
        "colab": {
          "base_uri": "https://localhost:8080/"
        },
        "id": "NzN0uuzVdlBf",
        "outputId": "9be7d108-b9a1-4e95-9912-f248c9163bcb"
      },
      "execution_count": 17,
      "outputs": [
        {
          "output_type": "stream",
          "name": "stdout",
          "text": [
            "Predictions: [4.]\n"
          ]
        }
      ]
    },
    {
      "cell_type": "code",
      "source": [
        "import numpy as np\n",
        "from sklearn.preprocessing import PolynomialFeatures\n",
        "from sklearn.linear_model import Ridge\n",
        "\n",
        "# Step 1. Data\n",
        "X = np.array([[1], [2], [3], [4], [5]])\n",
        "y = np.array([1, 4, 9, 16, 25])\n",
        "\n",
        "# Step 2. Split data\n",
        "X_train = np.array([[1], [3], [4], [5]])\n",
        "y_train = np.array([1, 9, 16, 25])\n",
        "X_test = np.array([[2]])\n",
        "y_test = np.array([4])\n",
        "\n",
        "# Step 3. Polynomial feature expansion\n",
        "poly = PolynomialFeatures(degree=2)\n",
        "X_train_poly = poly.fit_transform(X_train)\n",
        "X_test_poly = poly.transform(X_test)\n",
        "\n",
        "# Step 4. Ridge Regression\n",
        "ridge_model = Ridge(alpha=1.0)\n",
        "ridge_model.fit(X_train_poly, y_train)\n",
        "\n",
        "# Step 5. Prediction\n",
        "y_pred = ridge_model.predict(X_test_poly)\n",
        "\n",
        "print(\"Predictions:\", y_pred)\n"
      ],
      "metadata": {
        "colab": {
          "base_uri": "https://localhost:8080/"
        },
        "id": "yg7yyXF-g-PX",
        "outputId": "103db752-e555-4ec6-efd3-fcf795eeadea"
      },
      "execution_count": 19,
      "outputs": [
        {
          "output_type": "stream",
          "name": "stdout",
          "text": [
            "Predictions: [4.04913295]\n"
          ]
        }
      ]
    }
  ]
}